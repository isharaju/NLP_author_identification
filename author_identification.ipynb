{
  "nbformat": 4,
  "nbformat_minor": 0,
  "metadata": {
    "colab": {
      "name": "author_identification_naren.ipynb",
      "provenance": [],
      "collapsed_sections": [],
      "toc_visible": true,
      "include_colab_link": true
    },
    "kernelspec": {
      "name": "python3",
      "display_name": "Python 3"
    }
  },
  "cells": [
    {
      "cell_type": "markdown",
      "metadata": {
        "id": "view-in-github",
        "colab_type": "text"
      },
      "source": [
        "<a href=\"https://colab.research.google.com/github/isharaju/NLP_author_identification/blob/main/author_identification.ipynb\" target=\"_parent\"><img src=\"https://colab.research.google.com/assets/colab-badge.svg\" alt=\"Open In Colab\"/></a>"
      ]
    },
    {
      "cell_type": "markdown",
      "metadata": {
        "id": "QbjrxHHn5YBt"
      },
      "source": [
        "# Things to do:\n",
        "1. Replace new lines with space \n",
        "2. What to do with words like Gemme?\n",
        "3. Unknown [possible:words treatment?]\n",
        "4. Change matric accuracy with F1 Prec-Recall and perplexity\n",
        "5. Handling sentences with --: you are come at last--how I have longed for you!  Sit by me--do not leave me--never leave me again, Sandy, never again. Where is your hand --give it me, dear\n",
        "6. Program to delete any author name left in the corpus\n",
        "7. Getting rid of numbers and square brackets: eg. ACD-> Study in scarlet: “looking for lodgings.” [3] i answered.\n",
        "8. Delete Gutenberg lines from ACD and MT\n",
        "9. Checking for overfitting by comparing training and test loss\n",
        "\n",
        "# Code to be added\n",
        "\n",
        "df.sample(n=3, random_state=1)\n"
      ]
    },
    {
      "cell_type": "code",
      "metadata": {
        "id": "sjbA9ZLcSA1I",
        "colab": {
          "base_uri": "https://localhost:8080/"
        },
        "outputId": "11d76ca2-831e-4439-f4df-de6bcf70509a"
      },
      "source": [
        "# loading the libraries\n",
        "import nltk\n",
        "nltk.download('stopwords')\n",
        "from nltk.corpus import stopwords\n",
        "import collections \n",
        "\n",
        "import seaborn as sns\n",
        "import matplotlib.pyplot as plt\n",
        "from matplotlib.pyplot import imread\n",
        "import plotly.graph_objects as go\n",
        "import matplotlib.pyplot as plt\n",
        "from wordcloud import WordCloud\n",
        "from io import BytesIO\n",
        "import requests, base64\n",
        "import codecs\n",
        "\n",
        "import os\n",
        "\n",
        "import numpy as np\n",
        "import pandas as pd\n",
        "\n",
        "from sklearn.model_selection import train_test_split\n",
        "import matplotlib.pyplot as plt\n",
        "import seaborn as sns; sns.set()\n",
        "from sklearn.feature_extraction.text import TfidfVectorizer\n",
        "from sklearn.naive_bayes import MultinomialNB\n",
        "from sklearn.pipeline import make_pipeline\n",
        "from sklearn.metrics import confusion_matrix\n",
        "from sklearn.metrics import f1_score\n",
        "from datetime import datetime"
      ],
      "execution_count": 223,
      "outputs": [
        {
          "output_type": "stream",
          "text": [
            "[nltk_data] Downloading package stopwords to /root/nltk_data...\n",
            "[nltk_data]   Package stopwords is already up-to-date!\n"
          ],
          "name": "stdout"
        }
      ]
    },
    {
      "cell_type": "code",
      "metadata": {
        "id": "TWJGiM_assk8",
        "colab": {
          "base_uri": "https://localhost:8080/"
        },
        "outputId": "ddb373fd-bcf0-4ac3-f859-45722f72d11c"
      },
      "source": [
        "# mounting the directory\n",
        "from google.colab import drive\n",
        "# commented as it is mounted now\n",
        "drive.mount('/content/drive')"
      ],
      "execution_count": 173,
      "outputs": [
        {
          "output_type": "stream",
          "text": [
            "Drive already mounted at /content/drive; to attempt to forcibly remount, call drive.mount(\"/content/drive\", force_remount=True).\n"
          ],
          "name": "stdout"
        }
      ]
    },
    {
      "cell_type": "code",
      "metadata": {
        "id": "sacyObVmUMu0"
      },
      "source": [
        "def read_file(path):\n",
        "  with open(path, \"r\") as input:\n",
        "      document_collection = input.read().split(\"\\n\\n\")\n",
        "  return document_collection\n",
        "\n",
        "def split(doc):\n",
        "    pattern = r'[A-Za-z0-9]+'\n",
        "    stop_words = set(stopwords.words('english'))\n",
        "    tokens = nltk.regexp_tokenize(doc, pattern)\n",
        "    filtered_sentence = [w for w in tokens if not w in stop_words]   \n",
        "    return filtered_sentence\n",
        "\n",
        "def doc_vocab(filestream):\n",
        "    file = filestream\n",
        "    \n",
        "    collection = []\n",
        "    lexicon_count = {}\n",
        "    index = -1\n",
        "\n",
        "    for doc in file:\n",
        "        doc=doc.lower().rstrip()\n",
        "        collection.append(doc)\n",
        "        tokens = split(doc)\n",
        "        \n",
        "        for word in tokens:\n",
        "            if lexicon_count.get(word, -1) ==-1:\n",
        "                lexicon_count[word] =1\n",
        "            else:\n",
        "                lexicon_count[word] +=1\n",
        "                \n",
        "    return lexicon_count, collection\n",
        "\n",
        "\n",
        "\n",
        "# creating a parent function\n",
        "def book_to_corpus(path, author, author_num, genre):\n",
        "  # reading the file and storing into collection\n",
        "  document_collection = read_file(path)\n",
        "\n",
        "  # creating a document vocab\n",
        "  vocab, coll = doc_vocab(document_collection)\n",
        "  vocab = {k: v for k, v in sorted(vocab.items(), key=lambda item: item[1], reverse=True)}\n",
        "  \n",
        "  # filtering coll\n",
        "  result = []\n",
        "  for c in coll:\n",
        "    if len(c) > 30:\n",
        "      result.append(c)\n",
        "\n",
        "  # creting a dataframe\n",
        "  words = list(vocab.keys())\n",
        "  freqs = list(vocab.values())\n",
        "  \n",
        "  # using the 2 lists we can create a df\n",
        "  # this one is used to create word cloud and only vocab is used and\n",
        "  # not the whole collection\n",
        "  df_cloud = pd.DataFrame(\n",
        "    {\n",
        "        'Author': author,\n",
        "     'Author Number': author_num,\n",
        "     'Genre': genre,\n",
        "        'word': words,\n",
        "     'frequency': freqs\n",
        "    })\n",
        "  \n",
        "  # now we are creating a seperate one\n",
        "  # to create a df for storing collection\n",
        "  df = pd.DataFrame(\n",
        "    {\n",
        "        'Author': author,\n",
        "     'Author Number': author_num,\n",
        "     'Genre': genre,\n",
        "        'Sentence': result\n",
        "    })\n",
        "  \n",
        "\n",
        "  #visualize_word_freq(document_collection, vocab, author_num)\n",
        "  print(df.head())\n",
        "  return df\n",
        "\n",
        "\n",
        "# helper function to encode png to base64 \n",
        "# to use it for word cloud with\n",
        "# custom shape\n",
        "def encode_image(image_url):\n",
        "    buffered = BytesIO(requests.get(image_url).content)\n",
        "    image_base64 = base64.b64encode(buffered.getvalue())\n",
        "    return image_base64\n",
        "\n",
        "\n",
        "def visualize_word_freq(document_collection, vocab, author_index):\n",
        "  lexicon_count, collection = doc_vocab(document_collection)\n",
        "  top = collections.Counter(lexicon_count).most_common()\n",
        "  x_list = []\n",
        "  y_list = []\n",
        "  for i in range(len(top)):\n",
        "      x_list.append(top[i][0])\n",
        "      y_list.append(top[i][1])\n",
        "  d = {\"word\": x_list, \"frequency\":y_list}\n",
        "  d1 = pd.DataFrame(d)\n",
        "  print(d1.head())\n",
        "\n",
        "  # bar plot to show most frequent words from the corpus\n",
        "  plt.figure(figsize=(15,10))\n",
        "  sns.set_theme(style=\"whitegrid\")\n",
        "  ax = sns.barplot(x=\"word\", y=\"frequency\", data=d1[:20],palette=\"Blues_d\")\n",
        "  ax.set_xticklabels(ax.get_xticklabels(), rotation=270, ha=\"right\")\n",
        "\n",
        "\n",
        "  # builiding the word cloud from the vocab\n",
        "  plt.figure(figsize=(10,5))\n",
        "  wordcloud = WordCloud()\n",
        "  wordcloud.generate_from_frequencies(frequencies=vocab)\n",
        "  plt.imshow(wordcloud, interpolation=\"bilinear\")\n",
        "  plt.axis(\"off\")\n",
        "  plt.show()\n",
        "\n",
        "\n",
        "  # # based on author we will change our cloud shape\n",
        "  # if author_index == 1:\n",
        "  #   image_url = \"https://raw.githubusercontent.com/isharaju/NLP_author_identification/main/image/sherlock%20holmes.png\"\n",
        "  # elif author_index == 2:\n",
        "  #   image_url = \"https://raw.githubusercontent.com/isharaju/NLP_author_identification/main/image/tiger.png\" \n",
        "  # elif author_index == 3:\n",
        "  #   image_url = \"https://raw.githubusercontent.com/isharaju/NLP_author_identification/main/image/mark_twain.png\"\n",
        "  # else:\n",
        "  #   image_url = \"https://raw.githubusercontent.com/isharaju/NLP_author_identification/main/image/virginia%20wolf.png\"\n",
        "  # my_img = encode_image(image_url)\n",
        "  # f3 = open(\"my_image_cloud.png\", \"wb\")\n",
        "  # f3.write(codecs.decode(my_img,'base64'))\n",
        "  # f3.close()\n",
        "  # img3 = imread(\"my_image_cloud.png\")\n",
        "  # hcmask3 = img3;\n",
        "  # # The wordcloud of Cthulhu/squidy thing for HP Lovecraft\n",
        "  # plt.figure(figsize=(16,13))\n",
        "  # wc = WordCloud(background_color=\"black\", max_words=10000, \n",
        "  #               mask=hcmask3, max_font_size= 40)\n",
        "  # wc.generate(\" \".join(vocab))\n",
        "  # ## plt.title(\"HP Lovecraft (Cthulhu-Squidy)\", fontsize=20)\n",
        "  # ## plt.imshow(wc.recolor( colormap= 'Pastel1_r' , random_state=17), alpha=0.98)\n",
        "  # plt.imshow(wc.recolor( colormap= 'Pastel2' , random_state=17), alpha=0.98)\n",
        "  # plt.axis('off')"
      ],
      "execution_count": 174,
      "outputs": []
    },
    {
      "cell_type": "code",
      "metadata": {
        "colab": {
          "base_uri": "https://localhost:8080/"
        },
        "id": "Wr1uyMUk81xm",
        "outputId": "8b8b5479-d221-431d-963d-35f68139d760"
      },
      "source": [
        "# initializing an array to store author names\n",
        "authors = [\"Arthur Conan Doyle\", \"Jim Corbett\", \"Mark Twain\", \"Virginia Woolf\"]\n",
        "\n",
        "# for each author we are selecting 5 books and storing the genres in array\n",
        "genre = [\"crime\", \"crime\", \"crime\", \"science fiction\", \"crime\", \"wildlife\", \"wildlife\", \"travel\", \"wildlife\", \"unknown\", \"children\", \"children\", \"children\", \"children\", \"children\", \"non-fiction\", \"non-fiction\", \"non-fiction\", \"non-fiction\", \"non-fiction\"]\n",
        "\n",
        "# for each file creating a df \n",
        "df_list = []\n",
        "\n",
        "# get all the files from the given directory path\n",
        "from os import listdir\n",
        "from os.path import isfile, join\n",
        "onlyfiles = [f for f in listdir('/content/drive/MyDrive/NLP_project_112020/') if isfile(join('/content/drive/MyDrive/NLP_project_112020/', f))]\n",
        "onlyfiles = sorted(onlyfiles)\n",
        "\n",
        "# calling the book_to_corpus function for each file\n",
        "for index, file in enumerate(onlyfiles):\n",
        "  # for assiginng author to the file (every 5 books will have same author)\n",
        "  if index < 5:\n",
        "    a_i = 0\n",
        "  elif index < 10:\n",
        "    a_i = 1\n",
        "  elif index < 15:\n",
        "    a_i = 2\n",
        "  else:\n",
        "    a_i = 3\n",
        "\n",
        "  # storing the dataframe from the function into the list\n",
        "  df_list.append(book_to_corpus(\"/content/drive/MyDrive/NLP_project_112020/{}\".format(file), authors[a_i], a_i+1, genre[index]))"
      ],
      "execution_count": 175,
      "outputs": [
        {
          "output_type": "stream",
          "text": [
            "               Author  ...                                           Sentence\n",
            "0  Arthur Conan Doyle  ...                    chapter i. mr. sherlock holmes.\n",
            "1  Arthur Conan Doyle  ...  \\nin the year 1878 i took my degree of doctor ...\n",
            "2  Arthur Conan Doyle  ...  the campaign brought honours and promotion to ...\n",
            "3  Arthur Conan Doyle  ...  worn with pain, and weak from the prolonged ha...\n",
            "4  Arthur Conan Doyle  ...  i had neither kith nor kin in england, and was...\n",
            "\n",
            "[5 rows x 4 columns]\n",
            "               Author  ...                                           Sentence\n",
            "0  Arthur Conan Doyle  ...  to sherlock holmes she is always _the_ woman. ...\n",
            "1  Arthur Conan Doyle  ...  i had seen little of holmes lately. my marriag...\n",
            "2  Arthur Conan Doyle  ...  one night—it was on the twentieth of march, 18...\n",
            "3  Arthur Conan Doyle  ...  his manner was not effusive. it seldom was; bu...\n",
            "4  Arthur Conan Doyle  ...  “wedlock suits you,” he remarked. “i think, wa...\n",
            "\n",
            "[5 rows x 4 columns]\n",
            "               Author  ...                                           Sentence\n",
            "0  Arthur Conan Doyle  ...        mr. sherlock holmes, who was usually ver...\n",
            "1  Arthur Conan Doyle  ...            “well, watson, what do you make of it?”\n",
            "2  Arthur Conan Doyle  ...        holmes was sitting with his back to me, ...\n",
            "3  Arthur Conan Doyle  ...        “how did you know what i was doing? i be...\n",
            "4  Arthur Conan Doyle  ...        “i have, at least, a well-polished, silv...\n",
            "\n",
            "[5 rows x 4 columns]\n",
            "               Author  ...                                           Sentence\n",
            "0  Arthur Conan Doyle  ...         \\n                          the lost world\n",
            "1  Arthur Conan Doyle  ...                                          chapter i\n",
            "2  Arthur Conan Doyle  ...                  \"there are heroisms all round us\"\n",
            "3  Arthur Conan Doyle  ...  mr. hungerton, her father, really was the most...\n",
            "4  Arthur Conan Doyle  ...  for an hour or more that evening i listened to...\n",
            "\n",
            "[5 rows x 4 columns]\n",
            "               Author  ...                                           Sentence\n",
            "0  Arthur Conan Doyle  ...                chapter i\\nthe science of deduction\n",
            "1  Arthur Conan Doyle  ...  sherlock holmes took his bottle from the corne...\n",
            "2  Arthur Conan Doyle  ...  three times a day for many months i had witnes...\n",
            "3  Arthur Conan Doyle  ...  yet upon that afternoon, whether it was the be...\n",
            "4  Arthur Conan Doyle  ...  “which is it to-day?” i asked,—“morphine or co...\n",
            "\n",
            "[5 rows x 4 columns]\n",
            "        Author  ...                                           Sentence\n",
            "0  Jim Corbett  ...  if you are a hindu from the sun-scorched plain...\n",
            "1  Jim Corbett  ...  having purified yourself by immersion in the s...\n",
            "2  Jim Corbett  ...  you have now done all that custom and religion...\n",
            "3  Jim Corbett  ...  the first place of interest you will come to a...\n",
            "4  Jim Corbett  ...  dispensaries, and pilgrim shelters, and they f...\n",
            "\n",
            "[5 rows x 4 columns]\n",
            "        Author  ...                                           Sentence\n",
            "0  Jim Corbett  ...  i was shooting with eddie knowles in malani wh...\n",
            "1  Jim Corbett  ...  eddie, who will long be remembered in this pro...\n",
            "2  Jim Corbett  ...  the tiger, however, for some inexplicable reas...\n",
            "3  Jim Corbett  ...  the tigress, for such the animal turned out to...\n",
            "4  Jim Corbett  ...  this is how matters stood, when shortly after ...\n",
            "\n",
            "[5 rows x 4 columns]\n",
            "        Author  ...                                           Sentence\n",
            "0  Jim Corbett  ...  having read my dedication you may ask: 'who ar...\n",
            "1  Jim Corbett  ...  let me; therefore, explain what i mean by the ...\n",
            "2  Jim Corbett  ...  'my india', about which these sketches of vill...\n",
            "3  Jim Corbett  ...  sketches centre round these two points in indi...\n",
            "4  Jim Corbett  ...  in addition to many footpaths, naini tal is ac...\n",
            "\n",
            "[5 rows x 4 columns]\n",
            "        Author  ...                                           Sentence\n",
            "0  Jim Corbett  ...  it is not possible for those who have never li...\n",
            "1  Jim Corbett  ...  shortly after the kaiser's war, robert bellair...\n",
            "2  Jim Corbett  ...  it had been our intention to camp at this spot...\n",
            "3  Jim Corbett  ...  explanation we were told that the site we had ...\n",
            "4  Jim Corbett  ...  i had six garhwalis to carry my luggage and i ...\n",
            "\n",
            "[5 rows x 4 columns]\n",
            "        Author  ...                                           Sentence\n",
            "0  Jim Corbett  ...  a brilliant sun was shining in a deep blue sky...\n",
            "1  Jim Corbett  ...  i was standing on a wooden platform, thirty fe...\n",
            "2  Jim Corbett  ...  the lake and the salt-lick were surrounded on ...\n",
            "3  Jim Corbett  ...  solitary rhino now decided his need of salt ha...\n",
            "4  Jim Corbett  ...  at the far end of the platform on which i was ...\n",
            "\n",
            "[5 rows x 4 columns]\n",
            "       Author  ...                                           Sentence\n",
            "0  Mark Twain  ...        a connecticut yankee in king arthur's court\n",
            "1  Mark Twain  ...  it was in warwick castle that i came across th...\n",
            "2  Mark Twain  ...  “you know about transmigration of souls; do yo...\n",
            "3  Mark Twain  ...  i said i had not heard of it.  he was so littl...\n",
            "4  Mark Twain  ...  “ancient hauberk, date of the sixth century, t...\n",
            "\n",
            "[5 rows x 4 columns]\n",
            "       Author  ...                                           Sentence\n",
            "0  Mark Twain  ...  you don't know about me without you have read ...\n",
            "1  Mark Twain  ...  now the way that the book winds up is this:  t...\n",
            "2  Mark Twain  ...  the widow she cried over me, and called me a p...\n",
            "3  Mark Twain  ...  after supper she got out her book and learned ...\n",
            "4  Mark Twain  ...  pretty soon i wanted to smoke, and asked the w...\n",
            "\n",
            "[5 rows x 4 columns]\n",
            "       Author  ...                                           Sentence\n",
            "0  Mark Twain  ...   “what's gone with that boy,  i wonder? you tom!”\n",
            "1  Mark Twain  ...  the old lady pulled her spectacles down and lo...\n",
            "2  Mark Twain  ...          “well, i lay if i get hold of you i'll--”\n",
            "3  Mark Twain  ...  she did not finish, for by this time she was b...\n",
            "4  Mark Twain  ...            “i never did see the beat of that boy!”\n",
            "\n",
            "[5 rows x 4 columns]\n",
            "       Author  ...                                           Sentence\n",
            "0  Mark Twain  ...  for months the great pleasure excursion to eur...\n",
            "1  Mark Twain  ...                     excursion to the holy land,...\n",
            "2  Mark Twain  ...         the undersigned will make an excursion ...\n",
            "3  Mark Twain  ...         a first-class steamer, to be under his ...\n",
            "4  Mark Twain  ...         the steamer will be provided with every...\n",
            "\n",
            "[5 rows x 4 columns]\n",
            "       Author  ...                                           Sentence\n",
            "0  Mark Twain  ...  chapter i. the birth of the prince and the pau...\n",
            "1  Mark Twain  ...  in the ancient city of london, on a certain au...\n",
            "2  Mark Twain  ...  london was fifteen hundred years old, and was ...\n",
            "3  Mark Twain  ...  the house which tom’s father lived in was up a...\n",
            "4  Mark Twain  ...  bet and nan were fifteen years old--twins.  th...\n",
            "\n",
            "[5 rows x 4 columns]\n",
            "           Author  ...                                           Sentence\n",
            "0  Virginia Woolf  ...  \\n\"so of course,\" wrote betty flanders, pressi...\n",
            "1  Virginia Woolf  ...  slowly welling from the point of her gold nib,...\n",
            "2  Virginia Woolf  ...       \"... nothing for it but to leave,\" she read.\n",
            "3  Virginia Woolf  ...  \"well, if jacob doesn't want to play\" (the sha...\n",
            "4  Virginia Woolf  ...  \"where is that tiresome little boy?\" she said....\n",
            "\n",
            "[5 rows x 4 columns]\n",
            "           Author  ...                                           Sentence\n",
            "0  Virginia Woolf  ...  \\nwhatever hour you woke there was a door shut...\n",
            "1  Virginia Woolf  ...  \"here we left it,\" she said. and he added, \"oh...\n",
            "2  Virginia Woolf  ...  but it wasn't that you woke us. oh, no. \"they'...\n",
            "3  Virginia Woolf  ...  but they had found it in the drawing room. not...\n",
            "4  Virginia Woolf  ...  a moment later the light had faded. out in the...\n",
            "\n",
            "[5 rows x 4 columns]\n",
            "           Author  ...                                           Sentence\n",
            "0  Virginia Woolf  ...  mrs dalloway said she would buy the gloves her...\n",
            "1  Virginia Woolf  ...  big ben was striking as she stepped out into t...\n",
            "2  Virginia Woolf  ...  no doubt they were not all bound on errands of...\n",
            "3  Virginia Woolf  ...  poor little wretches, she sighed, and pressed ...\n",
            "4  Virginia Woolf  ...  a charming woman, poised, eager, strangely whi...\n",
            "\n",
            "[5 rows x 4 columns]\n",
            "           Author  ...                                           Sentence\n",
            "0  Virginia Woolf  ...  it was a sunday evening in october, and in com...\n",
            "1  Virginia Woolf  ...  considering that the little party had been sea...\n",
            "2  Virginia Woolf  ...  that fact was perceptible to mr. denham also, ...\n",
            "3  Virginia Woolf  ...  “now, what would you do if you were married to...\n",
            "4  Virginia Woolf  ...  “surely she could learn persian,” broke in a t...\n",
            "\n",
            "[5 rows x 4 columns]\n",
            "           Author  ...                                           Sentence\n",
            "0  Virginia Woolf  ...  \\nas the streets that lead from the strand to ...\n",
            "1  Virginia Woolf  ...  one afternoon in the beginning of october when...\n",
            "2  Virginia Woolf  ...  the embankment juts out in angles here and the...\n",
            "3  Virginia Woolf  ...  although mrs. ambrose stood quite still, much ...\n",
            "4  Virginia Woolf  ...       lars porsena of clusium\\n     by the nine...\n",
            "\n",
            "[5 rows x 4 columns]\n"
          ],
          "name": "stdout"
        }
      ]
    },
    {
      "cell_type": "markdown",
      "metadata": {
        "id": "3xcMNi5rotcy"
      },
      "source": [
        "# Pre processing"
      ]
    },
    {
      "cell_type": "code",
      "metadata": {
        "id": "VJMb4XFopB-5"
      },
      "source": [
        "# let's see the dimension of each dataframe\n",
        "all_books = pd.DataFrame(columns= [\"Author\",\"Author Number\", \"Genre\", \"Sentence\"])\n",
        "all_books = all_books.fillna(0)\n",
        "for df in df_list:\n",
        "  all_books = pd.concat([all_books, df], ignore_index=True)\n",
        "all_books.shape\n",
        "all_books = all_books.drop_duplicates(keep=False)"
      ],
      "execution_count": 176,
      "outputs": []
    },
    {
      "cell_type": "code",
      "metadata": {
        "colab": {
          "base_uri": "https://localhost:8080/",
          "height": 338
        },
        "id": "LnTOZ2BFzqgj",
        "outputId": "f55afd52-8de7-43da-d1be-ccbd95f76b7f"
      },
      "source": [
        "import plotly.offline as py\n",
        "# py.init_notebook_mode(connected=True)\n",
        "# import plotly.graph_objs as go\n",
        "#import plotly.tools as tls\n",
        "\n",
        "x = all_books.Author.unique()\n",
        "y = all_books.Author.value_counts().values\n",
        "           \n",
        "fig = plt.figure()\n",
        "ax = fig.add_axes([0,0,1,1])\n",
        "ax.bar(x,y)\n",
        "plt.show() "
      ],
      "execution_count": 177,
      "outputs": [
        {
          "output_type": "display_data",
          "data": {
            "image/png": "[encoded data removed]",
            "text/plain": [
              "<Figure size 432x288 with 1 Axes>"
            ]
          },
          "metadata": {
            "tags": []
          }
        }
      ]
    },
    {
      "cell_type": "markdown",
      "metadata": {
        "id": "l7JVC-fA6t7C"
      },
      "source": [
        "## Train Test Split"
      ]
    },
    {
      "cell_type": "code",
      "metadata": {
        "id": "xcHO_f3m0YP8"
      },
      "source": [
        "# function to split data\n",
        "def split_data(all_data, all_labels, split_point):\n",
        "    train_data, test_data, train_labels, test_labels = train_test_split(all_data, all_labels, test_size=1-split_point)\n",
        "\n",
        "    return train_data, test_data, train_labels, test_labels"
      ],
      "execution_count": 207,
      "outputs": []
    },
    {
      "cell_type": "code",
      "metadata": {
        "colab": {
          "base_uri": "https://localhost:8080/"
        },
        "id": "ZLdwMNsl-30B",
        "outputId": "a3001828-a35c-4472-c878-d5c9c36b5c1a"
      },
      "source": [
        "# calling the split function\n",
        "all_data = all_books[\"Sentence\"]\n",
        "print(len(all_data))\n",
        "all_labels = all_books['Author']\n",
        "print(len(all_labels))\n",
        "train_data, test_data, train_labels, test_labels = split_data(all_data, all_labels, 0.8)"
      ],
      "execution_count": 208,
      "outputs": [
        {
          "output_type": "stream",
          "text": [
            "21892\n",
            "21892\n"
          ],
          "name": "stdout"
        }
      ]
    },
    {
      "cell_type": "code",
      "metadata": {
        "colab": {
          "base_uri": "https://localhost:8080/"
        },
        "id": "xeWRsEisLcC0",
        "outputId": "56a08866-4bbd-416c-d84d-6afc567e6366"
      },
      "source": [
        "# length of train and test\n",
        "print(len(train_data), len(test_data), len(train_labels), len(test_labels))\n",
        "print(train_data.shape, test_data.shape, train_labels.shape)"
      ],
      "execution_count": 209,
      "outputs": [
        {
          "output_type": "stream",
          "text": [
            "17513 4379 17513 4379\n",
            "(17513,) (4379,) (17513,)\n"
          ],
          "name": "stdout"
        }
      ]
    },
    {
      "cell_type": "markdown",
      "metadata": {
        "id": "616Kol3SLl_b"
      },
      "source": [
        "# Naive Bayes Model"
      ]
    },
    {
      "cell_type": "code",
      "metadata": {
        "id": "pe8DGoMlLhCb"
      },
      "source": [
        "def nb():\n",
        "    # fit the model using the training data and then predict the targets/labels of test data\n",
        "    model = make_pipeline(TfidfVectorizer(), MultinomialNB())\n",
        "    model.fit(train_data, train_labels)\n",
        "    labels = model.predict(test_data)\n",
        "    return labels\n",
        "pred_labels = nb()"
      ],
      "execution_count": 211,
      "outputs": []
    },
    {
      "cell_type": "code",
      "metadata": {
        "id": "-i5kWbaVSNUY"
      },
      "source": [
        "labs, counts = np.unique(pred_labels, return_counts=True)"
      ],
      "execution_count": 214,
      "outputs": []
    },
    {
      "cell_type": "code",
      "metadata": {
        "colab": {
          "base_uri": "https://localhost:8080/",
          "height": 438
        },
        "id": "Y4YvFRBtSxF4",
        "outputId": "1887ad09-cf23-410b-ffb8-969a7c0c0a10"
      },
      "source": [
        "# Generate and display the confusion matrix of your model as a heatmap plot. \n",
        "def plot_mat(test_labels, predicted_labels, labs):\n",
        "    mat = confusion_matrix(test_labels, predicted_labels)\n",
        "    plt.figure(figsize=(5,5))\n",
        "    sns.heatmap(mat.T, square=True, annot=True, fmt='d', cbar=False, \n",
        "                xticklabels=labs, yticklabels=labs)\n",
        "    plt.xlabel('true label')\n",
        "    plt.ylabel('predicted label')\n",
        "\n",
        "plot_mat(test_labels, pred_labels, labs)"
      ],
      "execution_count": 216,
      "outputs": [
        {
          "output_type": "display_data",
          "data": {
            "image/png": "[encoded data removed]",
            "text/plain": [
              "<Figure size 360x360 with 1 Axes>"
            ]
          },
          "metadata": {
            "tags": []
          }
        }
      ]
    },
    {
      "cell_type": "code",
      "metadata": {
        "colab": {
          "base_uri": "https://localhost:8080/"
        },
        "id": "OUiRDEqqWd3n",
        "outputId": "cb61b400-8f67-4a97-8ac0-ef146397feff"
      },
      "source": [
        "from sklearn.metrics import f1_score\n",
        "micro_f1 = f1_score(test_labels, pred_labels, labels=None, pos_label=1, average='micro')\n",
        "macro_f1 = f1_score(test_labels, pred_labels, labels=None, pos_label=1, average='macro')\n",
        "\n",
        "print(micro_f1)\n",
        "print(macro_f1)"
      ],
      "execution_count": 218,
      "outputs": [
        {
          "output_type": "stream",
          "text": [
            "0.8412879652888787\n",
            "0.840326816556797\n"
          ],
          "name": "stdout"
        }
      ]
    },
    {
      "cell_type": "markdown",
      "metadata": {
        "id": "-voNLz5CVJn4"
      },
      "source": [
        "# MLPClassifier"
      ]
    },
    {
      "cell_type": "code",
      "metadata": {
        "id": "drjMXIdyTSjd"
      },
      "source": [
        "from sklearn.pipeline import make_pipeline\n",
        "from sklearn.feature_extraction.text import TfidfVectorizer\n",
        "from sklearn.neural_network import MLPClassifier"
      ],
      "execution_count": 217,
      "outputs": []
    },
    {
      "cell_type": "code",
      "metadata": {
        "id": "MmMQyuAVZrlf"
      },
      "source": [
        "# function to hyper tune parameters for MLP model\n",
        "def MLP(architecture):\n",
        "  start_time = datetime.now()\n",
        "  model2 = make_pipeline(TfidfVectorizer(), \n",
        "  MLPClassifier(hidden_layer_sizes=architecture, \n",
        "                                      random_state=1, \n",
        "                                      learning_rate=\"adaptive\",\n",
        "                                      verbose = True))\n",
        "\n",
        "  model2.fit(train_data, train_labels)\n",
        "  model2.predict_proba(test_data)\n",
        "  pred_labels2 = model2.predict(test_data)\n",
        "  pred_labels2\n",
        "  model2.score(test_data, test_labels)\n",
        "  mat2 = confusion_matrix(test_labels, pred_labels2)\n",
        "  plt.figure(figsize=(5,5))\n",
        "  sns.heatmap(mat2.T, square=True, annot=True, fmt='d', cbar=False, \n",
        "                  xticklabels=[\"Arthur Conan Doyle\", \"Jim Corbett\", \"Mark Twain\", \"Virginia Woolf\"], \n",
        "                  yticklabels=[\"Arthur Conan Doyle\", \"Jim Corbett\", \"Mark Twain\", \"Virginia Woolf\"])\n",
        "  plt.xlabel('true label')\n",
        "  plt.ylabel('predicted label');\n",
        "  micro2 = f1_score(test_labels, pred_labels2, average='micro')\n",
        "  macro2 = f1_score(test_labels, pred_labels2, average='macro')\n",
        "  print(\"_______________________________________________\")\n",
        "  print(\"microaveraged F1 scores for model 2 : \",micro2)\n",
        "  print(\"macroaveraged F1 scores for model 2 : \",macro2)\n",
        "  print(\"_______________________________________________\")\n",
        "  end_time = datetime.now()\n",
        "  print('Duration: {}'.format(end_time - start_time))"
      ],
      "execution_count": 224,
      "outputs": []
    },
    {
      "cell_type": "code",
      "metadata": {
        "colab": {
          "base_uri": "https://localhost:8080/",
          "height": 1000
        },
        "id": "7QFOxQNYbcwQ",
        "outputId": "64b1c6f1-9416-4f6c-e669-fe1832bb615d"
      },
      "source": [
        "# Model 2 with 4 hidden layers, each with 50 hidden units and learning_rate = \"adaptive\"\n",
        "MLP(architecture=(50,50,50,50))"
      ],
      "execution_count": 225,
      "outputs": [
        {
          "output_type": "stream",
          "text": [
            "Iteration 1, loss = 1.04349736\n",
            "Iteration 2, loss = 0.21332905\n",
            "Iteration 3, loss = 0.06394809\n",
            "Iteration 4, loss = 0.03048594\n",
            "Iteration 5, loss = 0.01604410\n",
            "Iteration 6, loss = 0.01024318\n",
            "Iteration 7, loss = 0.00604174\n",
            "Iteration 8, loss = 0.00399296\n",
            "Iteration 9, loss = 0.00323287\n",
            "Iteration 10, loss = 0.00245583\n",
            "Iteration 11, loss = 0.00249849\n",
            "Iteration 12, loss = 0.00217275\n",
            "Iteration 13, loss = 0.00246106\n",
            "Iteration 14, loss = 0.00150415\n",
            "Iteration 15, loss = 0.00132713\n",
            "Iteration 16, loss = 0.00116234\n",
            "Iteration 17, loss = 0.00128234\n",
            "Iteration 18, loss = 0.00111196\n",
            "Iteration 19, loss = 0.00128541\n",
            "Iteration 20, loss = 0.00144505\n",
            "Iteration 21, loss = 0.00127459\n",
            "Iteration 22, loss = 0.00088569\n",
            "Iteration 23, loss = 0.00118495\n",
            "Iteration 24, loss = 0.00100437\n",
            "Iteration 25, loss = 0.00080008\n",
            "Iteration 26, loss = 0.00094053\n",
            "Iteration 27, loss = 0.00113825\n",
            "Iteration 28, loss = 0.00075140\n",
            "Iteration 29, loss = 0.00110690\n",
            "Iteration 30, loss = 0.00097541\n",
            "Iteration 31, loss = 0.00080225\n",
            "Iteration 32, loss = 0.00074431\n",
            "Iteration 33, loss = 0.00101795\n",
            "Training loss did not improve more than tol=0.000100 for 10 consecutive epochs. Stopping.\n",
            "_______________________________________________\n",
            "microaveraged F1 scores for model 2 :  0.8940397350993377\n",
            "macroaveraged F1 scores for model 2 :  0.9012174830346267\n",
            "_______________________________________________\n",
            "Duration: 0:02:16.382726\n"
          ],
          "name": "stdout"
        },
        {
          "output_type": "display_data",
          "data": {
            "image/png": "[encoded data removed]",
            "text/plain": [
              "<Figure size 360x360 with 1 Axes>"
            ]
          },
          "metadata": {
            "tags": []
          }
        }
      ]
    },
    {
      "cell_type": "code",
      "metadata": {
        "colab": {
          "base_uri": "https://localhost:8080/",
          "height": 1000
        },
        "id": "A0_3rkWbbnIG",
        "outputId": "d13d06ac-14fb-4ada-906e-68cbdea3d300"
      },
      "source": [
        "MLP(architecture=(50,50,50,50,50,50,50,50,50,50))"
      ],
      "execution_count": 227,
      "outputs": [
        {
          "output_type": "stream",
          "text": [
            "Iteration 1, loss = 1.02591447\n",
            "Iteration 2, loss = 0.21056622\n",
            "Iteration 3, loss = 0.06752775\n",
            "Iteration 4, loss = 0.03284487\n",
            "Iteration 5, loss = 0.01888638\n",
            "Iteration 6, loss = 0.01118640\n",
            "Iteration 7, loss = 0.00795192\n",
            "Iteration 8, loss = 0.00784535\n",
            "Iteration 9, loss = 0.00717314\n",
            "Iteration 10, loss = 0.00494897\n",
            "Iteration 11, loss = 0.00412098\n",
            "Iteration 12, loss = 0.00324545\n",
            "Iteration 13, loss = 0.00241181\n",
            "Iteration 14, loss = 0.00215455\n",
            "Iteration 15, loss = 0.00173253\n",
            "Iteration 16, loss = 0.00161123\n",
            "Iteration 17, loss = 0.00217338\n",
            "Iteration 18, loss = 0.00621369\n",
            "Iteration 19, loss = 0.01724019\n",
            "Iteration 20, loss = 0.01489227\n",
            "Iteration 21, loss = 0.00994036\n",
            "Iteration 22, loss = 0.00587190\n",
            "Iteration 23, loss = 0.00360501\n",
            "Iteration 24, loss = 0.00163535\n",
            "Iteration 25, loss = 0.00105314\n",
            "Iteration 26, loss = 0.00147552\n",
            "Iteration 27, loss = 0.00113303\n",
            "Iteration 28, loss = 0.00113161\n",
            "Iteration 29, loss = 0.00107704\n",
            "Iteration 30, loss = 0.00101896\n",
            "Iteration 31, loss = 0.00097459\n",
            "Iteration 32, loss = 0.00088587\n",
            "Iteration 33, loss = 0.00078069\n",
            "Iteration 34, loss = 0.00102228\n",
            "Iteration 35, loss = 0.00124043\n",
            "Iteration 36, loss = 0.00089216\n",
            "Iteration 37, loss = 0.00085241\n",
            "Iteration 38, loss = 0.00103869\n",
            "Iteration 39, loss = 0.00078875\n",
            "Iteration 40, loss = 0.00103174\n",
            "Iteration 41, loss = 0.00098000\n",
            "Iteration 42, loss = 0.00249227\n",
            "Iteration 43, loss = 0.02095137\n",
            "Iteration 44, loss = 0.02528380\n",
            "Training loss did not improve more than tol=0.000100 for 10 consecutive epochs. Stopping.\n",
            "_______________________________________________\n",
            "microaveraged F1 scores for model 2 :  0.8778259876684175\n",
            "macroaveraged F1 scores for model 2 :  0.8813148889837318\n",
            "_______________________________________________\n",
            "Duration: 0:03:11.776448\n"
          ],
          "name": "stdout"
        },
        {
          "output_type": "display_data",
          "data": {
            "image/png": "[encoded data removed]",
            "text/plain": [
              "<Figure size 360x360 with 1 Axes>"
            ]
          },
          "metadata": {
            "tags": []
          }
        }
      ]
    },
    {
      "cell_type": "code",
      "metadata": {
        "id": "UHJnK8KadGpb"
      },
      "source": [
        ""
      ],
      "execution_count": null,
      "outputs": []
    }
  ]
}